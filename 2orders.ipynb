{
  "nbformat": 4,
  "nbformat_minor": 0,
  "metadata": {
    "colab": {
      "provenance": []
    },
    "kernelspec": {
      "name": "python3",
      "display_name": "Python 3"
    },
    "language_info": {
      "name": "python"
    }
  },
  "cells": [
    {
      "cell_type": "code",
      "source": [
        "\n",
        "import os\n",
        "import pandas as pd\n",
        "\n",
        "def normalize_name(filename):\n",
        "    return filename.replace(\"olist_\", \"\").replace(\"_dataset\", \"\").replace(\".csv\", \"\")\n",
        "\n",
        "def load_all_data(folder_path):\n",
        "    try:\n",
        "        files = [f for f in os.listdir(folder_path) if f.endswith(\".csv\")]\n",
        "        data = {normalize_name(filename): pd.read_csv(os.path.join(folder_path, filename)) for filename in files}\n",
        "        return data\n",
        "    except Exception as e:\n",
        "        print(f\"Error al cargar los datos: {str(e)}\")\n",
        "        return None\n"
      ],
      "metadata": {
        "id": "mZGbh9TISa-I"
      },
      "execution_count": 18,
      "outputs": []
    },
    {
      "cell_type": "code",
      "source": [
        "import pandas as pd\n",
        "\n",
        "import pandas as pd\n",
        "\n",
        "import pandas as pd\n",
        "\n",
        "def transformar_columnas_datetime(df):\n",
        "    columnas_de_fechas = ['order_purchase_timestamp', 'order_approved_at', 'order_delivered_carrier_date',\n",
        "                          'order_delivered_customer_date', 'order_estimated_delivery_date']\n",
        "\n",
        "    try:\n",
        "        for columna in columnas_de_fechas:\n",
        "            df[columna] = pd.to_datetime(df[columna])\n",
        "        print(f\"Columnas {columnas_de_fechas} convertidas a formato de datetime.\")\n",
        "    except Exception as e:\n",
        "        print(f\"Error al convertir las columnas a datetime: {str(e)}\")\n",
        "    return df\n",
        "\n",
        "\n"
      ],
      "metadata": {
        "id": "Pp-tF9czSZPm"
      },
      "execution_count": 19,
      "outputs": []
    },
    {
      "cell_type": "code",
      "source": [
        "import pandas as pd\n",
        "\n",
        "def calcular_tiempo_de_espera():\n",
        "\n",
        "    try:\n",
        "        orders['tiempo_de_espera'] = orders['order_delivered_customer_date'] - orders['order_purchase_timestamp']\n",
        "        orders['tiempo_de_espera'] = orders['tiempo_de_espera'].dt.days\n",
        "\n",
        "\n",
        "        # Verificación\n",
        "        print(orders[['order_purchase_timestamp', 'order_delivered_customer_date', 'tiempo_de_espera']])\n",
        "        print(\"Columna 'tiempo_de_espera' creada y diferencia de tiempo convertida a días.\")\n",
        "    except Exception as e:\n",
        "        print(f\"Error al calcular el tiempo de espera: {str(e)}\")\n",
        "\n",
        "\n"
      ],
      "metadata": {
        "id": "bdb69_u3IyFK"
      },
      "execution_count": 20,
      "outputs": []
    },
    {
      "cell_type": "code",
      "source": [
        "#import pandas as pd\n",
        "\n",
        "#def calcular_diferencia_real_vs_esperado(df, columna_real, columna_esperado):\n",
        " #   try:\n",
        "\n",
        "  #      diferencia = (df[columna_real] - timedelta(days=df[columna_esperado]))\n",
        "        #.dt.days\n",
        "\n",
        "        #negativos a 0\n",
        "        #diferencia = diferencia.clip(lower=0)\n",
        "\n",
        "\n",
        "   #     df['real_vs_esperado'] = diferencia\n",
        "\n",
        "    #except Exception as e:\n",
        "     #   print(f\"Error al calcular la diferencia entre fechas: {str(e)}\")\n",
        "\n",
        "\n",
        "\n",
        "\n"
      ],
      "metadata": {
        "id": "1rBDXR-sD7H7"
      },
      "execution_count": 21,
      "outputs": []
    },
    {
      "cell_type": "code",
      "source": [
        "import pandas as pd\n",
        "\n",
        "def calcular_real_vs_esperado(df):\n",
        "    try:\n",
        "        # Calcula la diferencia en días entre order_delivered_customer_date y fecha_esperada\n",
        "        diferencia = df[\"tiempo_de_espera\"] - df[\"tiempo_de_espera_previsto\"]\n",
        "\n",
        "        # Convierte valores negativos a 0 y almacénalos en la columna 'real_vs_esperado'\n",
        "        df['real_vs_esperado'] = diferencia.clip(lower=0)\n",
        "\n",
        "    except Exception as e:\n",
        "        print(f\"Error al calcular la diferencia entre fechas: {str(e)}\")\n",
        "\n"
      ],
      "metadata": {
        "id": "SGZoA1XXZzXw"
      },
      "execution_count": 22,
      "outputs": []
    },
    {
      "cell_type": "code",
      "source": [
        "import numpy as np\n",
        "\n",
        "def tiempo_de_espera(orders, is_delivered=True):\n",
        "    # filtrar por entregados y crea la variable tiempo de espera\n",
        "    if is_delivered:\n",
        "        orders = orders.query(\"order_status=='delivered'\").copy()\n",
        "    # calcular tiempo de espera\n",
        "    orders.loc[:, 'tiempo_de_espera'] = \\\n",
        "        (orders['order_delivered_customer_date'] -\n",
        "         orders['order_purchase_timestamp']) / np.timedelta64(24, 'h')\n",
        "    return orders"
      ],
      "metadata": {
        "id": "kQvmF-feV9HW"
      },
      "execution_count": 23,
      "outputs": []
    },
    {
      "cell_type": "code",
      "source": [
        "import numpy as np\n",
        "\n",
        "def tiempo_de_espera_previsto(orders, is_delivered=True):\n",
        "    # filtrar por entregados y crea la variable tiempo de espera\n",
        "    if is_delivered:\n",
        "        orders = orders.query(\"order_status=='delivered'\").copy()\n",
        "    # calcular tiempo de espera\n",
        "    orders.loc[:, 'tiempo_de_espera_previsto'] = \\\n",
        "        (orders['order_estimated_delivery_date'] -\n",
        "         orders['order_purchase_timestamp']) / np.timedelta64(24, 'h')\n",
        "    return orders"
      ],
      "metadata": {
        "id": "1W3X6uh_pizN"
      },
      "execution_count": 24,
      "outputs": []
    },
    {
      "cell_type": "code",
      "source": [
        "def puntaje_de_compra(reviews):\n",
        "    reviews['orden_original'] = range(len(reviews))\n",
        "\n",
        "    def asignar_una_estrella(x):\n",
        "        return x.eq(1).any().astype(int)\n",
        "\n",
        "    def asignar_cinco_estrellas(x):\n",
        "        return x.eq(5).all().astype(int)\n",
        "\n",
        "    resultados = pd.DataFrame({\n",
        "        'order_id': reviews['order_id'],\n",
        "        'es_cinco_estrellas': reviews.groupby('order_id')['review_score'].transform(asignar_cinco_estrellas),\n",
        "        'es_una_estrella': reviews.groupby('order_id')['review_score'].transform(asignar_una_estrella),\n",
        "        'review_score_original': reviews['review_score'],\n",
        "\n",
        "    })\n",
        "\n",
        "\n",
        "    return resultados\n",
        "\n",
        "\n",
        "\n"
      ],
      "metadata": {
        "id": "rvBZICat3yMP"
      },
      "execution_count": 25,
      "outputs": []
    },
    {
      "cell_type": "code",
      "source": [
        "def generar_data(df1, df2, columna):\n",
        "    data = df1.merge(df2, on=columna, how=\"left\")\n",
        "    return data\n"
      ],
      "metadata": {
        "id": "S_ohxzH5x4kk"
      },
      "execution_count": 26,
      "outputs": []
    },
    {
      "cell_type": "code",
      "source": [
        "def calcular_numero_productos(data):\n",
        "  merge_sorted = data.groupby(\"order_id\").agg(number_of_products = (\"product_id\",\"count\")).reset_index()\n",
        "  return merge_sorted\n"
      ],
      "metadata": {
        "id": "SXGXbqISj1tp"
      },
      "execution_count": 27,
      "outputs": []
    },
    {
      "cell_type": "code",
      "source": [
        "def vendedores_unicos(data):\n",
        "  return data.groupby(\"order_id\").agg(vendedores_unicos = (\"seller_id\",\"nunique\")).reset_index()\n"
      ],
      "metadata": {
        "id": "h635S3Jrr29N"
      },
      "execution_count": 28,
      "outputs": []
    },
    {
      "cell_type": "code",
      "source": [
        "def calcular_precio_y_transporte(data):\n",
        "\n",
        "    data = data.groupby(\"order_id\").agg({\n",
        "        'price': 'sum',\n",
        "        'freight_value': 'sum'\n",
        "    }).reset_index()\n",
        "\n",
        "\n",
        "    data.rename(columns={'price': 'precio', 'freight_value': 'transporte'}, inplace=True)\n",
        "\n",
        "    return data\n"
      ],
      "metadata": {
        "id": "2SBGkqu43RZU"
      },
      "execution_count": 29,
      "outputs": []
    },
    {
      "cell_type": "code",
      "source": [
        "from math import radians, sin, cos, asin, sqrt\n",
        "\n",
        "def haversine_distance(lon1, lat1, lon2, lat2):\n",
        "    \"\"\"\n",
        "    Computa distancia entre dos pares (lat, lng)\n",
        "    Ver - (https://en.wikipedia.org/wiki/Haversine_formula)\n",
        "    \"\"\"\n",
        "    lon1, lat1, lon2, lat2 = map(radians, [lon1, lat1, lon2, lat2])\n",
        "    dlon = lon2 - lon1\n",
        "    dlat = lat2 - lat1\n",
        "    a = sin(dlat / 2) ** 2 + cos(lat1) * cos(lat2) * sin(dlon / 2) ** 2\n",
        "    return 2 * 6371 * asin(sqrt(a))\n"
      ],
      "metadata": {
        "id": "1_llr6mr50Sx"
      },
      "execution_count": 30,
      "outputs": []
    },
    {
      "cell_type": "code",
      "source": [
        " def distancia_al_cliente(data):\n",
        "  data['distance_seller_customer'] = data.apply(lambda row: haversine_distance(row['geolocation_lng'], row['geolocation_lat'],  row['custo_geolocation_lng_y'], row['custo_geolocation_lat_y']), axis=1)\n",
        "  data = data.dropna()\n",
        "  return data.groupby(\"order_id\")[\"distance_seller_customer\"].mean().reset_index()"
      ],
      "metadata": {
        "id": "RpOV4SpOmuWZ"
      },
      "execution_count": 31,
      "outputs": []
    }
  ]
}